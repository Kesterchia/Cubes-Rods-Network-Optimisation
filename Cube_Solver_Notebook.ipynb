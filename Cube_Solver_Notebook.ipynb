{
 "cells": [
  {
   "cell_type": "markdown",
   "metadata": {},
   "source": [
    "# Final solution code: "
   ]
  },
  {
   "cell_type": "code",
   "execution_count": 138,
   "metadata": {},
   "outputs": [],
   "source": [
    "import numpy as np\n",
    "import pandas as pd\n",
    "import networkx as nx\n",
    "import random\n",
    "\n",
    "def n_neighbors(graph,node):\n",
    "    return len([i for i in graph.neighbors(node)])\n",
    "\n",
    "def check_both_sides(graph,edge):\n",
    "    return all(n_neighbors(graph,i) > 1 for i in edge)\n",
    "\n",
    "def risking_my_life_for_these_cubes(rods, verbose = False):\n",
    "    \n",
    "    #First count how many repeat edges\n",
    "    \n",
    "    repeats = len(rods) - len(set(rods))\n",
    "\n",
    "    #Initialize Graph and add the edges. At this point repeat edges are cut.\n",
    "    \n",
    "    G = nx.Graph()\n",
    "    G.add_edges_from(rods)\n",
    "    \n",
    "    #Iterate through each edge\n",
    "    \n",
    "    cut_counter = 0\n",
    "    edgelist = list(G.edges)\n",
    "    \n",
    "    #Randomly shuffle the list of edges so that the rods are considered in a different sequence each time\n",
    "    random.shuffle(edgelist)\n",
    "    \n",
    "    for edge in edgelist:\n",
    "        \n",
    "        #First: Are nodes on both ends of edge connected to another node?\n",
    "        \n",
    "        if check_both_sides(G,edge):\n",
    "            \n",
    "            #Second: After cut, is the graph still connected?\n",
    "            \n",
    "            Aftercut = G.copy()\n",
    "            Aftercut.remove_edge(edge[0],edge[1])\n",
    "            \n",
    "            if nx.is_connected(Aftercut):\n",
    "                \n",
    "                if verbose:\n",
    "                    print('Edge {} has been cut!'.format(edge))\n",
    "                \n",
    "                #Cut the rod!\n",
    "                G.remove_edge(edge[0],edge[1])\n",
    "                cut_counter += 1\n",
    "                \n",
    "                if verbose:\n",
    "                    print('Cut counter: {}'.format(cut_counter))\n",
    "                \n",
    "                \n",
    "                \n",
    "            else: \n",
    "            \n",
    "                if verbose:\n",
    "                    print('Cutting this rod ({}) makes the cubes disconnected'.format(edge))\n",
    "        \n",
    "        else:\n",
    "            \n",
    "            if verbose:\n",
    "                print ('Cutting this rod ({}) leaves an isolated cube'.format(edge))\n",
    "            \n",
    "            continue\n",
    "            \n",
    "    return cut_counter + repeats\n",
    "\n",
    "\n",
    "#Define a function that runs the algorithm a number of iterations for random permutations of the rod sequence\n",
    "\n",
    "def compute(rods, iterations = 5000, verbose = False):\n",
    "    solutions = []\n",
    "    for i in range(iterations):\n",
    "        solution = risking_my_life_for_these_cubes(rods = rods,verbose = verbose)\n",
    "        solutions.append(solution)\n",
    "    return max(solutions)\n",
    "    "
   ]
  },
  {
   "cell_type": "code",
   "execution_count": 144,
   "metadata": {},
   "outputs": [
    {
     "data": {
      "text/plain": [
       "2"
      ]
     },
     "execution_count": 144,
     "metadata": {},
     "output_type": "execute_result"
    }
   ],
   "source": [
    "rods = [(1,2),(1,4),(1,5),(1,7),(7,6),(4,6),(2,1),(4,2)]\n",
    "\n",
    "compute(rods, iterations = 1)"
   ]
  },
  {
   "cell_type": "markdown",
   "metadata": {},
   "source": [
    "# Run the function here:"
   ]
  },
  {
   "cell_type": "code",
   "execution_count": 147,
   "metadata": {},
   "outputs": [
    {
     "data": {
      "text/plain": [
       "1"
      ]
     },
     "execution_count": 147,
     "metadata": {},
     "output_type": "execute_result"
    }
   ],
   "source": [
    "rods = [(1,2),(1,4),(1,5),(1,7),(7,6),(4,6),(2,1),(4,2)]\n",
    "\n",
    "\n",
    "compute([(1,4),(1,3),(4,3)])"
   ]
  },
  {
   "cell_type": "markdown",
   "metadata": {},
   "source": [
    "# Algorithm explanation:"
   ]
  },
  {
   "cell_type": "markdown",
   "metadata": {},
   "source": [
    "The algorithm consists of a few steps:\n",
    "\n",
    "Step 1:\n",
    "\n",
    "Check if there are any repeated rods connecting the same 2 cubes.\n",
    "If such rods exist, remove those rods and save the number of rods removed under \"r\".\n",
    "\n",
    "Step 2:\n",
    "Iterate through each rod. For each rod, check if the cubes at both ends of the rod are connected to at least 2 other cubes. This ensures that if the current rod is cut, the cubes at each end will still be connected to another cube. \n",
    "\n",
    "If the condition is not met, the rod cannot be cut. If it is met, then continue to the next step.\n",
    "\n",
    "Step 3:\n",
    "Check if after the current rod is cut, whether the entire network of cubes will still remain connected - i.e. every cube must still have at least one path to every other cube in the network. \n",
    "\n",
    "If the condition is not met, the rod cannot be cut. If it is met, then the rod can be cut and some platinum is earned!!$$$$\n",
    "\n",
    "Step 4: After choosing to cut or not cut the rod, the algorithm continues iterating through each rod in the network until every rod has been considered. The function then returns the total number of rods cut (remembering to include the cutting of the duplicate rods in the beginning). \n",
    "\n",
    "\n",
    "Sequence of rod consideration:\n",
    "\n",
    "The algorithm uses a sequential selection of rods to consider (i.e. algorithm considers one rod, then the next, then the next). As the cutting of the rods affects the entire network, the order in which the rods are considered by the algorithm affects whether the optimal solution is obtained. \n",
    "\n",
    "Therefore in the compute function, the algorithm is run for 5000 random permutations of the rod sequence, outputting a solution each time. The maximum of all 5000 solutions will be returned as the optimal solution (as we want to cut as many rods as possible). \n",
    "\n",
    "However this does not guarantee always finding the optimal solution. Increasing the iterations will make it more likely to find the optimal solution, but with a large number of cubes this method may not be very efficient. \t\n"
   ]
  },
  {
   "cell_type": "markdown",
   "metadata": {},
   "source": [
    "# How the algorithm was made:"
   ]
  },
  {
   "cell_type": "code",
   "execution_count": 1,
   "metadata": {},
   "outputs": [],
   "source": [
    "import numpy as np\n",
    "import pandas as pd\n",
    "import networkx as nx #Package for network analysis"
   ]
  },
  {
   "cell_type": "markdown",
   "metadata": {},
   "source": [
    "Task\n",
    "\n",
    "● Write a Python program which can tell you how many rods you can cut down. (You only need to provide the\n",
    "number, no need to enumerate which ones to cut.) Make sure your solution works for all corner cases. The input is\n",
    "the layout of the rods and cubes. Cubes are identified by integers and each item of the input corresponds to a rod:\n",
    "it tells which two cubes are connected by that rod.\n",
    "\n",
    "● Explain the algorithm you used. How does it work? Why is it correct?\n",
    "Requirements\n",
    "\n",
    "● The submission has to be written in Python3.\n",
    "\n",
    "● The solution should implement a function compute(rods) that takes the rods as input and returns the number of\n",
    "rods that can be removed.\n",
    "\n",
    "○ The argument rods should be a list of 2-tuples, each tuple corresponding to a rod with the cube identifiers\n",
    "being the elements of the tuple. For example the input rods = [(1, 2), (1, 3)] means we have three cubes,\n",
    "identified by 1, 2 and 3, and two rods, one connecting the cubes 1 and 2, and the other connects the cubes 1\n",
    "and 3.\n",
    "\n",
    "○ The function compute() should return one value, the number of rods which could be cut. For\n",
    "example compute([(1, 2), (1, 3), (3, 2)]) should return the value 1.\n",
    "\n",
    "● Attach a short text file in which you explain your algorithm. It’s a plus if you can provide proof of\n",
    "correctness.\n",
    "Example\n",
    "rods = [(42, 35), (20, 35), (20, 35), (42, 10)]\n",
    "compute(rods) # Returns 1\n"
   ]
  },
  {
   "cell_type": "code",
   "execution_count": 2,
   "metadata": {},
   "outputs": [],
   "source": [
    "rods = [(42, 35), (20, 35), (20, 35), (42, 10)] #input format"
   ]
  },
  {
   "cell_type": "markdown",
   "metadata": {},
   "source": [
    "# Step 1:\n",
    "\n",
    "#### Count how many repeated edges (rods) there are, and 'cut' them away."
   ]
  },
  {
   "cell_type": "code",
   "execution_count": 3,
   "metadata": {},
   "outputs": [],
   "source": [
    "#The repeat edges will be automatically 'cut' when initializing the graph since repeat edges are not added\n",
    "\n",
    "repeats = len(rods) - len(set(rods))"
   ]
  },
  {
   "cell_type": "markdown",
   "metadata": {},
   "source": [
    "# Step 2: \n",
    "\n",
    "#### Initialize a graph to represent our cubes and rods."
   ]
  },
  {
   "cell_type": "code",
   "execution_count": 4,
   "metadata": {},
   "outputs": [],
   "source": [
    "#Initialize a graph to represent our cubes and rods\n",
    "#The MultiDiGraph class type is used as we have multiple edges between nodes\n",
    "\n",
    "G = nx.Graph()\n",
    "\n",
    "#Add the nodes (cubes) to our graph\n",
    "\n",
    "G.add_edges_from(rods)"
   ]
  },
  {
   "cell_type": "code",
   "execution_count": 5,
   "metadata": {},
   "outputs": [
    {
     "data": {
      "text/plain": [
       "NodeView((42, 35, 20, 10))"
      ]
     },
     "execution_count": 5,
     "metadata": {},
     "output_type": "execute_result"
    }
   ],
   "source": [
    "#Check the nodes in the network\n",
    "\n",
    "G.nodes"
   ]
  },
  {
   "cell_type": "code",
   "execution_count": 6,
   "metadata": {},
   "outputs": [
    {
     "data": {
      "text/plain": [
       "3"
      ]
     },
     "execution_count": 6,
     "metadata": {},
     "output_type": "execute_result"
    }
   ],
   "source": [
    "#Check number of edges\n",
    "\n",
    "G.number_of_edges()"
   ]
  },
  {
   "cell_type": "code",
   "execution_count": 7,
   "metadata": {},
   "outputs": [
    {
     "data": {
      "text/plain": [
       "4"
      ]
     },
     "execution_count": 7,
     "metadata": {},
     "output_type": "execute_result"
    }
   ],
   "source": [
    "#Check number of nodes\n",
    "\n",
    "G.number_of_nodes()"
   ]
  },
  {
   "cell_type": "markdown",
   "metadata": {},
   "source": [
    "# Step 3:\n",
    "\n",
    "#### Iterate through the edges according to the rule:\n",
    "\n",
    "if: Nodes on both sides of the edges are connected to the other node, proceed.\n",
    "\n",
    "else: This edge cannot be cut. "
   ]
  },
  {
   "cell_type": "code",
   "execution_count": 8,
   "metadata": {},
   "outputs": [],
   "source": [
    "#Get a way to determine number of neighbors a node has\n",
    "\n",
    "def n_neighbors(node):\n",
    "    return len([i for i in G.neighbors(node)])"
   ]
  },
  {
   "cell_type": "code",
   "execution_count": 9,
   "metadata": {},
   "outputs": [
    {
     "data": {
      "text/plain": [
       "[(42, 35), (42, 10), (35, 20)]"
      ]
     },
     "execution_count": 9,
     "metadata": {},
     "output_type": "execute_result"
    }
   ],
   "source": [
    "#Get a list of the edges in our graph\n",
    "\n",
    "list(G.edges())"
   ]
  },
  {
   "cell_type": "code",
   "execution_count": 10,
   "metadata": {},
   "outputs": [
    {
     "data": {
      "text/plain": [
       "2"
      ]
     },
     "execution_count": 10,
     "metadata": {},
     "output_type": "execute_result"
    }
   ],
   "source": [
    "#Testing out the function\n",
    "\n",
    "n_neighbors(42)"
   ]
  },
  {
   "cell_type": "code",
   "execution_count": 12,
   "metadata": {},
   "outputs": [],
   "source": [
    "#Define a function to check if both nodes of an edge are connected to another node\n",
    "\n",
    "def check_both_sides(edge):\n",
    "    return all(n_neighbors(i) > 1 for i in edge)"
   ]
  },
  {
   "cell_type": "markdown",
   "metadata": {},
   "source": [
    "# Step 4:\n",
    "\n",
    "#### Check if after the rod is cut, whether all cubes are still connected by at least one path"
   ]
  },
  {
   "cell_type": "code",
   "execution_count": 14,
   "metadata": {},
   "outputs": [
    {
     "data": {
      "text/plain": [
       "True"
      ]
     },
     "execution_count": 14,
     "metadata": {},
     "output_type": "execute_result"
    }
   ],
   "source": [
    "#is_connected function checks if graph is connected\n",
    "\n",
    "TestG = G.copy()\n",
    "\n",
    "nx.is_connected(TestG)"
   ]
  },
  {
   "cell_type": "code",
   "execution_count": 15,
   "metadata": {},
   "outputs": [
    {
     "data": {
      "text/plain": [
       "False"
      ]
     },
     "execution_count": 15,
     "metadata": {},
     "output_type": "execute_result"
    }
   ],
   "source": [
    "# After removing edge, returns False instead of True\n",
    "\n",
    "TestG.remove_edge(20,35)\n",
    "\n",
    "nx.is_connected(TestG)"
   ]
  },
  {
   "cell_type": "markdown",
   "metadata": {},
   "source": [
    "# Step 5:\n",
    "\n",
    "Iterate until no more rods can be cut. Then add up all the cut rods.\n",
    "\n",
    "Below we combine everything into one function that takes in one argument (a list containing the rods) and outputs one integer (how many rods can be cut):"
   ]
  },
  {
   "cell_type": "code",
   "execution_count": null,
   "metadata": {},
   "outputs": [],
   "source": [
    "import numpy as np\n",
    "import pandas as pd\n",
    "import networkx as nx\n",
    "import random\n",
    "\n",
    "def n_neighbors(graph,node):\n",
    "    return len([i for i in graph.neighbors(node)])\n",
    "\n",
    "def check_both_sides(graph,edge):\n",
    "    return all(n_neighbors(graph,i) > 1 for i in edge)\n",
    "\n",
    "def compute(rods, verbose = False):\n",
    "    \n",
    "    #First count how many repeat edges\n",
    "    \n",
    "    repeats = len(rods) - len(set(rods))\n",
    "\n",
    "    #Initialize Graph and add the edges. At this point repeat edges are cut.\n",
    "    \n",
    "    G = nx.Graph()\n",
    "    G.add_edges_from(rods)\n",
    "    \n",
    "    #Iterate through each edge\n",
    "    \n",
    "    cut_counter = 0\n",
    "    edgelist = list(G.edges)\n",
    "    \n",
    "    #Randomly shuffle the list of edges so that the rods are considered in a different sequence each time\n",
    "    random.shuffle(edgelist)\n",
    "    \n",
    "    for edge in edgelist:\n",
    "        \n",
    "        #First: Are nodes on both ends of edge connected to another node?\n",
    "        \n",
    "        if check_both_sides(G,edge):\n",
    "            \n",
    "            #Second: After cut, is the graph still connected?\n",
    "            \n",
    "            Aftercut = G.copy()\n",
    "            Aftercut.remove_edge(edge[0],edge[1])\n",
    "            \n",
    "            if nx.is_connected(Aftercut):\n",
    "                \n",
    "                if verbose:\n",
    "                    print('Edge {} has been cut!'.format(edge))\n",
    "                \n",
    "                #Cut the rod!\n",
    "                G.remove_edge(edge[0],edge[1])\n",
    "                cut_counter += 1\n",
    "                \n",
    "                if verbose:\n",
    "                    print('Cut counter: {}'.format(cut_counter))\n",
    "                \n",
    "                \n",
    "                \n",
    "            else: \n",
    "            \n",
    "                if verbose:\n",
    "                    print('Cutting this rod ({}) makes the cubes disconnected'.format(edge))\n",
    "        \n",
    "        else:\n",
    "            \n",
    "            if verbose:\n",
    "                print ('Cutting this rod ({}) leaves an isolated cube'.format(edge))\n",
    "            \n",
    "            continue\n",
    "            \n",
    "    return cut_counter + repeats\n"
   ]
  },
  {
   "cell_type": "markdown",
   "metadata": {},
   "source": [
    "# In a python script:"
   ]
  },
  {
   "cell_type": "code",
   "execution_count": 130,
   "metadata": {},
   "outputs": [
    {
     "name": "stderr",
     "output_type": "stream",
     "text": [
      "usage: ipykernel_launcher.py [-h] rods\n",
      "ipykernel_launcher.py: error: unrecognized arguments: -f\n"
     ]
    },
    {
     "ename": "SystemExit",
     "evalue": "2",
     "output_type": "error",
     "traceback": [
      "An exception has occurred, use %tb to see the full traceback.\n",
      "\u001b[1;31mSystemExit\u001b[0m\u001b[1;31m:\u001b[0m 2\n"
     ]
    }
   ],
   "source": [
    "import numpy as np\n",
    "import pandas as pd\n",
    "import networkx as nx\n",
    "import random\n",
    "\n",
    "def n_neighbors(graph,node):\n",
    "    return len([i for i in graph.neighbors(node)])\n",
    "\n",
    "def check_both_sides(graph,edge):\n",
    "    return all(n_neighbors(graph,i) > 1 for i in edge)\n",
    "\n",
    "def compute(rods, verbose = False):\n",
    "    \n",
    "    #First count how many repeat edges\n",
    "    \n",
    "    repeats = len(rods) - len(set(rods))\n",
    "\n",
    "    #Initialize Graph and add the edges. At this point repeat edges are cut.\n",
    "    \n",
    "    G = nx.Graph()\n",
    "    G.add_edges_from(rods)\n",
    "    \n",
    "    #Iterate through each edge\n",
    "    \n",
    "    cut_counter = 0\n",
    "    edgelist = list(G.edges)\n",
    "    \n",
    "    #Randomly shuffle the list of edges so that the rods are considered in a different sequence each time\n",
    "    random.shuffle(edgelist)\n",
    "    \n",
    "    for edge in edgelist:\n",
    "        \n",
    "        #First: Are nodes on both ends of edge connected to another node?\n",
    "        \n",
    "        if check_both_sides(G,edge):\n",
    "            \n",
    "            #Second: After cut, is the graph still connected?\n",
    "            \n",
    "            Aftercut = G.copy()\n",
    "            Aftercut.remove_edge(edge[0],edge[1])\n",
    "            \n",
    "            if nx.is_connected(Aftercut):\n",
    "                \n",
    "                if verbose:\n",
    "                    print('Edge {} has been cut!'.format(edge))\n",
    "                \n",
    "                #Cut the rod!\n",
    "                G.remove_edge(edge[0],edge[1])\n",
    "                cut_counter += 1\n",
    "                \n",
    "                if verbose:\n",
    "                    print('Cut counter: {}'.format(cut_counter))\n",
    "                \n",
    "                \n",
    "                \n",
    "            else: \n",
    "            \n",
    "                if verbose:\n",
    "                    print('Cutting this rod ({}) makes the cubes disconnected'.format(edge))\n",
    "        \n",
    "        else:\n",
    "            \n",
    "            if verbose:\n",
    "                print ('Cutting this rod ({}) leaves an isolated cube'.format(edge))\n",
    "            \n",
    "            continue\n",
    "            \n",
    "    return cut_counter + repeats\n",
    "\n",
    "\n",
    "\n",
    "#For script\n",
    "\n",
    "import argparse\n",
    "\n",
    "parser = argparse.ArgumentParser(description = 'Calculate how many rods can be removed')\n",
    "\n",
    "parser.add_argument('rods', help = 'List of rods (tuples) connecting the cubes')\n",
    "\n",
    "args = parser.parse_args()\n",
    "\n",
    "\n",
    "if __name__ == '__main__':\n",
    "    \n",
    "    print(compute(args.rods))"
   ]
  },
  {
   "cell_type": "code",
   "execution_count": 105,
   "metadata": {},
   "outputs": [
    {
     "name": "stdout",
     "output_type": "stream",
     "text": [
      "Edge (1, 3) has been cut!\n",
      "Cut counter: 1\n",
      "Cutting this rod ((1, 2)) leaves an isolated cube\n",
      "Cutting this rod ((3, 4)) leaves an isolated cube\n",
      "Cutting this rod ((3, 2)) makes the cubes disconnected\n",
      "Cutting this rod ((2, 5)) leaves an isolated cube\n"
     ]
    },
    {
     "data": {
      "text/plain": [
       "2"
      ]
     },
     "execution_count": 105,
     "metadata": {},
     "output_type": "execute_result"
    }
   ],
   "source": [
    "testing = [(1,3),(1,3),(1,2),(2,5),(5,2),(3,4),(2,3)]\n",
    "\n",
    "compute(testing, verbose = True)"
   ]
  }
 ],
 "metadata": {
  "kernelspec": {
   "display_name": "Python 3",
   "language": "python",
   "name": "python3"
  },
  "language_info": {
   "codemirror_mode": {
    "name": "ipython",
    "version": 3
   },
   "file_extension": ".py",
   "mimetype": "text/x-python",
   "name": "python",
   "nbconvert_exporter": "python",
   "pygments_lexer": "ipython3",
   "version": "3.8.3"
  }
 },
 "nbformat": 4,
 "nbformat_minor": 4
}
